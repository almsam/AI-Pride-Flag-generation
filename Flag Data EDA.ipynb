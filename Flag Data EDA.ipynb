{
 "cells": [
  {
   "cell_type": "markdown",
   "id": "a39b2a89",
   "metadata": {},
   "source": [
    "# Pride flag Data Analysis\n",
    "\n",
    "The first step of any classical ML process is an EDA - in this case, lets look for correlations\n",
    "\n",
    "The header of our data should be as follows:\n",
    "\n",
    "```\n",
    "flag name - String\n",
    "gender identity - The gender this flag is intended for (Women = 0, Men = 1)\n",
    "man? - are men intended to wave this flag?\n",
    "woman? - are women intended to wave this flag?\n",
    "attracted to men? - are the flag wavers attracted to men?\n",
    "attratced to women? - are the flag wavers attracted to women?\n",
    "\n",
    "gender specific?,\n",
    "gender expression,\n",
    "gender identity intensity,\n",
    "sexual attraction intensity,\n",
    "romantic attraction intensity,\n",
    "\n",
    "stripe 1 R, stripe 1 G, stripe 1 B,\n",
    "stripe 2 R, stripe 2 G, stripe 2 B,\n",
    "stripe 3 R, stripe 3 G, stripe 3 B,\n",
    "stripe 4 R, stripe 4 G, stripe 4 B,\n",
    "stripe 5 R, stripe 5 G, stripe 5 B,\n",
    "```"
   ]
  },
  {
   "cell_type": "code",
   "execution_count": null,
   "id": "0c95b6d2",
   "metadata": {},
   "outputs": [],
   "source": []
  }
 ],
 "metadata": {
  "language_info": {
   "name": "python"
  }
 },
 "nbformat": 4,
 "nbformat_minor": 5
}
