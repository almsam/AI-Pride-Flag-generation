{
 "cells": [
  {
   "cell_type": "markdown",
   "id": "a39b2a89",
   "metadata": {},
   "source": [
    "# Pride flag Data Analysis\n",
    "\n",
    "The first step of any classical ML process is an EDA - in this case, lets look for correlations\n",
    "\n",
    "The header of our data should be as follows:\n",
    "\n",
    "flag name,\n",
    "gender identity,\n",
    "man?,\n",
    "woman?,\n",
    "attracted to men?,\n",
    "attratced to women?,\n",
    "\n"
   ]
  },
  {
   "cell_type": "code",
   "execution_count": null,
   "id": "0c95b6d2",
   "metadata": {},
   "outputs": [],
   "source": []
  }
 ],
 "metadata": {
  "language_info": {
   "name": "python"
  }
 },
 "nbformat": 4,
 "nbformat_minor": 5
}
