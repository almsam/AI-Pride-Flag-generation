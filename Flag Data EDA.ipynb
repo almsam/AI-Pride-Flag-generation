{
 "cells": [
  {
   "cell_type": "markdown",
   "id": "a39b2a89",
   "metadata": {},
   "source": [
    "# Pride flag Data Analysis\n",
    "\n",
    "The first step of any classical ML process is an EDA - in this case, lets look for correlations"
   ]
  },
  {
   "cell_type": "code",
   "execution_count": null,
   "id": "0c95b6d2",
   "metadata": {},
   "outputs": [],
   "source": []
  }
 ],
 "metadata": {
  "language_info": {
   "name": "python"
  }
 },
 "nbformat": 4,
 "nbformat_minor": 5
}
